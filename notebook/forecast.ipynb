{
 "cells": [
  {
   "cell_type": "code",
   "execution_count": 1,
   "metadata": {},
   "outputs": [],
   "source": [
    "import numpy as np\n",
    "import random\n",
    "from numpy import array\n",
    "import glob\n",
    "import pandas as pd\n",
    "import matplotlib.pyplot as plt\n",
    "%matplotlib inline\n",
    "import random\n",
    "import matplotlib.pyplot as plt\n",
    "from sklearn import preprocessing\n",
    "import calendar;\n",
    "import time;\n",
    "from scipy import stats\n",
    "from datetime import date, datetime\n",
    "import arviz as az\n",
    "#plt.style.use('science')\n",
    "az.style.use([\"science\", \"grid\"])\n",
    "%config InlineBackend.figure_format = 'retina'"
   ]
  },
  {
   "cell_type": "code",
   "execution_count": 2,
   "metadata": {
    "code_folding": [
     0
    ]
   },
   "outputs": [],
   "source": [
    "##\n",
    "def calculateRMSE(a_x_true, a_x_pred, a_step = 1):\n",
    "    rmse = []\n",
    "    for i in range(0, a_x_true.shape[0], a_step):\n",
    "        x_true = a_x_true[i,:,0]\n",
    "        x_pred = a_x_pred[i,:,0]\n",
    "        temp = np.sqrt(mean_squared_error(x_true, x_pred))\n",
    "        rmse = rmse + [temp]\n",
    "    return rmse\n",
    "\n",
    "def calculateMetrics(a_x_true, a_x_pred, a_step = 1):\n",
    "    rmse = []\n",
    "    nrmse = []\n",
    "    for i in range(0, a_x_true.shape[0], a_step):\n",
    "        x_true = a_x_true[i,:,0]\n",
    "        x_pred = a_x_pred[i,:,0]\n",
    "        temp = np.sqrt(mean_squared_error(x_true, x_pred))\n",
    "        rmse = rmse + [temp]\n",
    "        iqr = np.subtract(*np.percentile(x_true, [75, 25]))\n",
    "        #print(iqr)\n",
    "        nrmse = nrmse + [temp / ((np.max(x_true)-np.min(x_true)))]\n",
    "        #nrmse = nrmse + [temp / iqr]\n",
    "    print(stats.describe(nrmse))\n",
    "    print(\"NRMSE\", \"Q1\", np.quantile(nrmse,0.25), \"Q2\", np.quantile(nrmse, 0.5), \"Q3\", np.quantile(nrmse,0.75))\n",
    "    print(\"\\n\")\n",
    "    print(stats.describe(rmse))\n",
    "    print(\"RMSE\", \"Q1\", np.quantile(rmse,0.25), \"Q2\", np.quantile(rmse, 0.5), \"Q3\", np.quantile(rmse,0.75))\n",
    "    plt.bar(range(1,len(nrmse)+1),rmse)\n",
    "    plt.title(\"Average RMSE per 24 Hours Interval\")\n",
    "    plt.ylabel(\"RMSE\")\n",
    "    plt.xlabel(\"24 Hour Intervals\")\n",
    "    plt.show()\n",
    "\n",
    "def rescale(a_data, a_scaler):\n",
    "    samples = []\n",
    "    for i in range(0, a_data.shape[0]):\n",
    "        temp = a_data[i,:,0]\n",
    "        temp_scaled = a_scaler.inverse_transform(temp.reshape(WINDOW_SIZE,-1))\n",
    "        \n",
    "        samples = samples + [temp_scaled]\n",
    "    return np.stack([i for i in samples],axis=0)\n",
    "    \n",
    "def plotErrors(a_train, a_validation, a_metric=\"mae\"):\n",
    "    plt.plot(a_train[::], label='train %s'%(a_metric)), \n",
    "    plt.plot(a_validation[::], label='validation %s'%(a_metric))\n",
    "    plt.ylabel(a_metric)\n",
    "    plt.xlabel('epoch')\n",
    "    plt.title('train vs. validation accuracy (%s)'%(a_metric))\n",
    "    plt.legend(loc='upper center', bbox_to_anchor=(0.5, -0.15), fancybox=True, shadow=False, ncol=2)\n",
    "    plt.show()\n",
    "\n",
    "def getFeatureString():\n",
    "    features_d0 = \"\"\n",
    "    features_d1 = \"\"\n",
    "    \n",
    "    for f in d0:\n",
    "        features_d0 = features_d0 + \"--%s\"%(f)\n",
    "        \n",
    "    for f in d1:\n",
    "        features_d1 = features_d1 + \"--%s\"%(f)\n",
    "        \n",
    "    features_string = \"_Fd0%s_Fd1%s_\"%(features_d0,features_d1)\n",
    "    #print(features_string)\n",
    "    return features_string.replace(\"*\", \"x\")\n",
    "\n",
    "def saveModel(a_prefix):\n",
    "    features_d0 = \"\"\n",
    "    features_d1 = \"\"\n",
    "    \n",
    "    for f in d0:\n",
    "        features_d0 = features_d0 + \"--%s\"%(f)\n",
    "        \n",
    "    for f in d1:\n",
    "        features_d1 = features_d1 + \"--%s\"%(f)\n",
    "        \n",
    "    ts = calendar.timegm(time.gmtime())\n",
    "    \n",
    "    do = str(dropout)\n",
    "        \n",
    "    file_name = \"Net-%s%s_Units-%d_BS-%s_Epc-%d_Do-%s_Wo-%d_W1-%d_Fd0%s_Fd1%s_Tr-%s--%s_CD-%s_%d.h5\"%(a_prefix, net, n_units, batch_size, epochs, \n",
    "                                                                       do,WINDOW_SIZE*w0, WINDOW_SIZE*w1, features_d0, features_d1, \n",
    "                                                                    train_start, train_end, str(cleanData), ts)\n",
    "    \n",
    "    file_name = file_name.replace(\"*\", \"x\")\n",
    "    model.save(\"%s\"%file_name)\n",
    "    print(file_name)  \n",
    "    \n",
    "    \n",
    "\n",
    "def _add_holidays(df):\n",
    "    \"\"\"\n",
    "    Add a binary variable to the dataset that takes value: 1 if the day is a holiday, 0 otherwise.\n",
    "    Main holidays for the New England area are considered.\n",
    "    :param df: the datafrme\n",
    "    :return: the agumented dtaframe\n",
    "    \"\"\"\n",
    "    with warnings.catch_warnings():\n",
    "        warnings.simplefilter(\"ignore\")\n",
    "        idx = []\n",
    "        idx.extend(df[df.day == 1][df.month == 1].index.tolist())  # new year's eve\n",
    "        idx.extend(df[df.day == 4][df.month == 7].index.tolist())  # independence day\n",
    "        idx.extend(df[df.day == 11][df.month == 11].index.tolist())  # veternas day\n",
    "        idx.extend(df[df.day == 25][df.month == 12].index.tolist())  # christams\n",
    "        df.loc[idx, 'holiday'] = 1\n",
    "        return df\n",
    "    \n",
    "    \n",
    "def transform(X, scaler=None, scaler_type=None):\n",
    "    \"\"\"\n",
    "    Apply standard scaling to the input variables\n",
    "    :param X: the data\n",
    "    :param scaler: the scaler to use, None if StandardScaler has to be used\n",
    "    :return:\n",
    "        scaler used\n",
    "        X transformed using scaler\n",
    "    \"\"\"\n",
    "    if scaler is None:\n",
    "        if scaler_type == 'minmax':\n",
    "            scaler = MinMaxScaler()\n",
    "        else:\n",
    "            scaler = StandardScaler()\n",
    "        scaler.fit(X)\n",
    "    return scaler, scaler.transform(X)\n",
    "\n",
    "\n",
    "def inverse_transform(X, scaler, trend=None):\n",
    "    \"\"\"\n",
    "    :param X: the data\n",
    "    :param scaler: the scaler that have been used for transforming X\n",
    "    :param trend: the trebd values that has been removed from X. None if no detrending has been used.\n",
    "        It has to be the same dim. as X.\n",
    "    :return:\n",
    "        X with trend adds back and de-standardized\n",
    "    \"\"\"\n",
    "    X = X.astype(np.float32)\n",
    "    X = scaler.inverse_transform(X)\n",
    "    try:\n",
    "        X += trend\n",
    "    except TypeError as e:\n",
    "        print(str(e))\n",
    "    except Exception as e:\n",
    "        print('General error (not a TypeError) while adding back time series trend. \\n {}'.format(str(e)))\n",
    "    return X\n"
   ]
  },
  {
   "cell_type": "markdown",
   "metadata": {},
   "source": [
    "# Load data"
   ]
  },
  {
   "cell_type": "code",
   "execution_count": 3,
   "metadata": {},
   "outputs": [],
   "source": [
    "import pytz\n",
    "from pytz import timezone\n",
    "def loadData(a_path, a_cols, a_rename = None, a_idx_field=\"timestamp\", a_period=\"1T\", a_timezone = None):\n",
    "    data = pd.DataFrame()\n",
    "    for path in a_path:\n",
    "        data_temp = pd.read_csv(path, usecols = a_cols)\n",
    "        data  = pd.concat([data, data_temp], ignore_index=True)\n",
    "    \n",
    "    \n",
    "    data[a_idx_field] = pd.to_datetime(data[a_idx_field], utc=True)\n",
    "\n",
    "    \n",
    "    if a_rename != None:\n",
    "        data.rename(columns = a_rename, inplace=True)\n",
    "    data.set_index(a_idx_field, inplace=True)\n",
    "    #data = data.interpolate(method=\"time\")\n",
    "    if a_timezone != None:\n",
    "        data.index = data.index.tz_convert(a_timezone)\n",
    "    data = data.resample(a_period).mean()\n",
    "\n",
    "    return data"
   ]
  },
  {
   "cell_type": "code",
   "execution_count": 8,
   "metadata": {
    "code_folding": []
   },
   "outputs": [],
   "source": [
    "## LOAD AND SPLIT DATA 30T\n",
    "\n",
    "def load_dataset():\n",
    "    \"\"\"\n",
    "    Load an already cleaned version of the dataset\n",
    "    \"\"\"\n",
    "    load = loadData(['../data/Load_1M_2019.csv', '../data/Load_1M_2020.csv'], \n",
    "                a_cols = [\"timestamp\", \"measure_cons\"], a_rename={\"measure_cons\":\"Load\"}, a_period=\"30T\", \n",
    "                a_timezone = \"Atlantic/Madeira\")\n",
    "\n",
    "    radiation = loadData(['../data/Solcast_PT30M_2019.csv', '../data/Solcast_PT30M_2020.csv'], \n",
    "               a_cols = [\"PeriodStart\", \"Ghi\", \"Dhi\", \"AirTemp\", \"CloudOpacity\"], a_idx_field=\"PeriodStart\", a_period=\"30T\", \n",
    "               a_timezone = \"Atlantic/Madeira\")\n",
    "    \n",
    "    return load, radiation\n",
    "\n",
    "def add_exogenous_variables(df, one_hot=True):\n",
    "    \"\"\"\n",
    "    Augument the dataframe with exogenous features (date/time feature + holiday feature).\n",
    "    The feature's values can be kept as they are or they can be one hot encoded\n",
    "    :param df: the dataframe\n",
    "    :param one_hot: if True, one hot encode all the features.\n",
    "    :return: two matrix of exogenous features,\n",
    "     the first for temperatures only the second one contains all the other variables.\n",
    "    \"\"\"\n",
    "    data['DAYOFWEEK'] = ((pd.DatetimeIndex(data.index).dayofweek))\n",
    "    data['DAYOFYEAR'] = ((pd.DatetimeIndex(data.index).dayofyear))\n",
    "    data['YEAR'] = ((pd.DatetimeIndex(data.index).year))\n",
    "    data['MONTH'] = ((pd.DatetimeIndex(data.index).month))\n",
    "    data['DAY'] = ((pd.DatetimeIndex(data.index).day))\n",
    "    data['HOUR'] = ((pd.DatetimeIndex(data.index).hour))\n",
    "   \n",
    "    if one_hot:\n",
    "        ex_feat = pd.get_dummies(df, columns=['YEAR', 'MONTH', 'DAY', 'HOUR', 'DAYOFWEEK', 'DAYOFYEAR'])\n",
    "        return ex_feat\n",
    "    else:\n",
    "        return df.values\n",
    "\n",
    "\n",
    "\n",
    "\n"
   ]
  },
  {
   "cell_type": "code",
   "execution_count": 19,
   "metadata": {},
   "outputs": [],
   "source": [
    "import sys\n",
    "import warnings\n",
    "sys.path.append(\"../src/\")\n",
    "from utils.prepare_loadforecast_data import *\n",
    "SAMPLES_PER_DAY = 48\n",
    "TARGET = 'Load'\n",
    "load, radiation = load_dataset()\n",
    "radiation=radiation['2019-02-01':'2020-02-14']\n",
    "load = load['2019-02-01':'2020-02-14']"
   ]
  },
  {
   "cell_type": "code",
   "execution_count": 20,
   "metadata": {},
   "outputs": [
    {
     "name": "stdout",
     "output_type": "stream",
     "text": [
      "Total data sample: 18146\n",
      "Missing data sample: 16712\n",
      " percentage of Missing data sample: 0.9209743194092362\n"
     ]
    }
   ],
   "source": [
    "print(f\"Total data sample: {load.shape[0]}\")\n",
    "print(f\"Missing data sample: {load.isnull().sum()[0]}\")\n",
    "print(f\" percentage of Missing data sample: {load.isnull().sum()[0]/len(load)}\")"
   ]
  },
  {
   "cell_type": "code",
   "execution_count": 27,
   "metadata": {},
   "outputs": [
    {
     "name": "stdout",
     "output_type": "stream",
     "text": [
      "Total data sample: 1434\n",
      "Missing data sample: 0\n",
      " percentage of data loss : 0.9209743194092362\n"
     ]
    }
   ],
   "source": [
    "data = pd.merge(radiation, load, how = 'outer', left_index = True, right_index = True)\n",
    "data.sort_index(inplace=True)\n",
    "data.dropna(inplace = True)\n",
    "\n",
    "print(f\"Total data sample: {data.shape[0]}\")\n",
    "print(f\"Missing data sample: {data.isnull().sum()[0]}\")\n",
    "print(f\" percentage of data loss : {1- (data.shape[0]/len(load))}\")"
   ]
  },
  {
   "cell_type": "code",
   "execution_count": 28,
   "metadata": {},
   "outputs": [
    {
     "data": {
      "text/html": [
       "<div>\n",
       "<style scoped>\n",
       "    .dataframe tbody tr th:only-of-type {\n",
       "        vertical-align: middle;\n",
       "    }\n",
       "\n",
       "    .dataframe tbody tr th {\n",
       "        vertical-align: top;\n",
       "    }\n",
       "\n",
       "    .dataframe thead th {\n",
       "        text-align: right;\n",
       "    }\n",
       "</style>\n",
       "<table border=\"1\" class=\"dataframe\">\n",
       "  <thead>\n",
       "    <tr style=\"text-align: right;\">\n",
       "      <th></th>\n",
       "      <th>AirTemp</th>\n",
       "      <th>CloudOpacity</th>\n",
       "      <th>Dhi</th>\n",
       "      <th>Ghi</th>\n",
       "      <th>Load</th>\n",
       "    </tr>\n",
       "  </thead>\n",
       "  <tbody>\n",
       "    <tr>\n",
       "      <th>2019-02-01 12:30:00+00:00</th>\n",
       "      <td>17.9</td>\n",
       "      <td>2.8</td>\n",
       "      <td>177</td>\n",
       "      <td>624</td>\n",
       "      <td>7984.680000</td>\n",
       "    </tr>\n",
       "    <tr>\n",
       "      <th>2019-02-01 13:00:00+00:00</th>\n",
       "      <td>17.7</td>\n",
       "      <td>4.4</td>\n",
       "      <td>201</td>\n",
       "      <td>627</td>\n",
       "      <td>9465.482609</td>\n",
       "    </tr>\n",
       "    <tr>\n",
       "      <th>2019-02-01 13:30:00+00:00</th>\n",
       "      <td>17.4</td>\n",
       "      <td>0.5</td>\n",
       "      <td>148</td>\n",
       "      <td>650</td>\n",
       "      <td>14183.436667</td>\n",
       "    </tr>\n",
       "    <tr>\n",
       "      <th>2019-02-01 14:00:00+00:00</th>\n",
       "      <td>17.2</td>\n",
       "      <td>1.0</td>\n",
       "      <td>150</td>\n",
       "      <td>629</td>\n",
       "      <td>12686.746667</td>\n",
       "    </tr>\n",
       "    <tr>\n",
       "      <th>2019-02-01 14:30:00+00:00</th>\n",
       "      <td>17.0</td>\n",
       "      <td>0.0</td>\n",
       "      <td>129</td>\n",
       "      <td>602</td>\n",
       "      <td>6689.906667</td>\n",
       "    </tr>\n",
       "  </tbody>\n",
       "</table>\n",
       "</div>"
      ],
      "text/plain": [
       "                           AirTemp  CloudOpacity  Dhi  Ghi          Load\n",
       "2019-02-01 12:30:00+00:00     17.9           2.8  177  624   7984.680000\n",
       "2019-02-01 13:00:00+00:00     17.7           4.4  201  627   9465.482609\n",
       "2019-02-01 13:30:00+00:00     17.4           0.5  148  650  14183.436667\n",
       "2019-02-01 14:00:00+00:00     17.2           1.0  150  629  12686.746667\n",
       "2019-02-01 14:30:00+00:00     17.0           0.0  129  602   6689.906667"
      ]
     },
     "execution_count": 28,
     "metadata": {},
     "output_type": "execute_result"
    }
   ],
   "source": [
    "data.head()"
   ]
  },
  {
   "cell_type": "code",
   "execution_count": 29,
   "metadata": {},
   "outputs": [],
   "source": [
    "#combine radiation and load data\n",
    "data[\"LoadxGhi\"] = data[\"Load\"] * data[\"Ghi\"]\n",
    "data[\"P-LoadxGhi\"] = data[\"Load\"] - data[\"LoadxGhi\"]\n",
    "data[\"P-Ghi\"] = data[\"Load\"] - data[\"Ghi\"]"
   ]
  },
  {
   "cell_type": "code",
   "execution_count": 30,
   "metadata": {},
   "outputs": [
    {
     "name": "stdout",
     "output_type": "stream",
     "text": [
      "(1434, 7)\n",
      "(1434, 1)\n",
      "(1434, 21)\n",
      "(1434, 22)\n"
     ]
    }
   ],
   "source": [
    "from sklearn.preprocessing import StandardScaler, MinMaxScaler\n",
    "targets = data[[TARGET]].values\n",
    "features = data.drop(labels=TARGET, axis=1).values\n",
    "scaler = StandardScaler()\n",
    "X = scaler.fit_transform(features)\n",
    "print(X.shape)\n",
    "targets=np.where(targets<0, 0, targets)\n",
    "y = np.log1p(targets)\n",
    "print(y.shape)\n",
    "scaler = MinMaxScaler()\n",
    "time_features=add_exogenous_variables(data, one_hot=False)\n",
    "time_features = scaler.fit_transform(time_features)\n",
    "X = np.concatenate([X, time_features], 1)\n",
    "print(X.shape)\n",
    "XY = np.concatenate([y, X], 1)\n",
    "print(XY.shape)"
   ]
  },
  {
   "cell_type": "code",
   "execution_count": 31,
   "metadata": {},
   "outputs": [],
   "source": [
    "window_size, horizon = int(48*2), 48"
   ]
  },
  {
   "cell_type": "code",
   "execution_count": 32,
   "metadata": {},
   "outputs": [],
   "source": [
    "from utils.prepare_loadforecast_data import *"
   ]
  },
  {
   "cell_type": "code",
   "execution_count": 33,
   "metadata": {},
   "outputs": [
    {
     "name": "stderr",
     "output_type": "stream",
     "text": [
      "100%|██████████| 1/1 [00:00<00:00, 338.09it/s]\n"
     ]
    }
   ],
   "source": [
    "X, y = get_rnn_inputs(XY,\n",
    "                                      window_size,\n",
    "                                       horizon,\n",
    "                                      shuffle=False,\n",
    "                                      multivariate_output=False)"
   ]
  },
  {
   "cell_type": "code",
   "execution_count": 34,
   "metadata": {},
   "outputs": [],
   "source": [
    "size =int(0.75*(len(X)))\n",
    "X_train, X_val = X[:size], X[size:]\n",
    "y_train, y_val = y[:size], y[size:]"
   ]
  },
  {
   "cell_type": "code",
   "execution_count": 52,
   "metadata": {},
   "outputs": [
    {
     "name": "stdout",
     "output_type": "stream",
     "text": [
      "(968, 96, 22)\n",
      "(968, 48)\n"
     ]
    }
   ],
   "source": [
    "print(X_train.shape)\n",
    "print(y_train.shape)"
   ]
  },
  {
   "cell_type": "code",
   "execution_count": 37,
   "metadata": {},
   "outputs": [],
   "source": [
    "import torch \n",
    "class Dataset(torch.utils.data.Dataset):\n",
    "    def __init__(self,  inputs, targets,   seq_len=10):\n",
    "        if inputs.ndim ==1:\n",
    "            inputs = inputs[:, None]\n",
    "        self.inputs = inputs\n",
    "        self.targets = targets\n",
    "        self.len = self.inputs.shape[0] \n",
    "       \n",
    "    def __len__(self):\n",
    "        'Denotes the total number of samples'\n",
    "        return self.len\n",
    "    \n",
    "    def __getitem__(self, index):\n",
    "        inputs, target = self.inputs[index], self.targets[index]\n",
    "        return torch.tensor(inputs).float(), torch.tensor(target).float().squeeze(-1)\n",
    "    "
   ]
  },
  {
   "cell_type": "code",
   "execution_count": 38,
   "metadata": {},
   "outputs": [],
   "source": [
    "tra_data = Dataset(X_train, y_train)\n",
    "val_data = Dataset(X_val, y_val)\n",
    "tra_loader=torch.utils.data.DataLoader(tra_data,batch_size=64,\n",
    "                                            shuffle=True,  drop_last=False)\n",
    "val_loader=torch.utils.data.DataLoader(val_data,batch_size=64,\n",
    "                                            shuffle=False,  drop_last=False)"
   ]
  },
  {
   "cell_type": "code",
   "execution_count": 39,
   "metadata": {},
   "outputs": [],
   "source": [
    "from net.Seq2fpq import FPQForecast, model_pil"
   ]
  },
  {
   "cell_type": "code",
   "execution_count": 40,
   "metadata": {},
   "outputs": [],
   "source": [
    "network = FPQForecast(n_channels=X.shape[-1],\n",
    "                      emb_size=64, \n",
    "                      latent_size=128, \n",
    "                      out_size=48, \n",
    "                      hidden_size=128, \n",
    "                      context_size=96, \n",
    "                      num_layers=2)"
   ]
  },
  {
   "cell_type": "code",
   "execution_count": 41,
   "metadata": {},
   "outputs": [],
   "source": [
    "from pathlib import Path\n",
    "results = Path(\"../results/\")\n",
    "logs = Path(\"../logs/\")\n",
    "checkpoints = Path(\"../checkpoints/forecasting_lucas/\")\n",
    "logs.mkdir(parents=True, exist_ok=True)\n",
    "results.mkdir(parents=True, exist_ok=True)\n",
    "checkpoints.mkdir(parents=True, exist_ok=True)"
   ]
  },
  {
   "cell_type": "code",
   "execution_count": 42,
   "metadata": {},
   "outputs": [
    {
     "name": "stderr",
     "output_type": "stream",
     "text": [
      "GPU available: False, used: False\n",
      "TPU available: False, using: 0 TPU cores\n",
      "\n",
      "  | Name  | Type        | Params\n",
      "--------------------------------------\n",
      "0 | model | FPQForecast | 1.8 M \n",
      "--------------------------------------\n",
      "1.8 M     Trainable params\n",
      "0         Non-trainable params\n",
      "1.8 M     Total params\n",
      "7.125     Total estimated model params size (MB)\n",
      "/Users/anthonyfaustine/opt/anaconda3/lib/python3.8/site-packages/pytorch_lightning/utilities/distributed.py:52: UserWarning: The dataloader, val dataloader 0, does not have many workers which may be a bottleneck. Consider increasing the value of the `num_workers` argument` (try 8 which is the number of cpus on this machine) in the `DataLoader` init to improve performance.\n",
      "  warnings.warn(*args, **kwargs)\n"
     ]
    },
    {
     "data": {
      "application/vnd.jupyter.widget-view+json": {
       "model_id": "",
       "version_major": 2,
       "version_minor": 0
      },
      "text/plain": [
       "HBox(children=(HTML(value='Validation sanity check'), FloatProgress(value=1.0, bar_style='info', layout=Layout…"
      ]
     },
     "metadata": {},
     "output_type": "display_data"
    },
    {
     "name": "stderr",
     "output_type": "stream",
     "text": [
      "/Users/anthonyfaustine/opt/anaconda3/lib/python3.8/site-packages/pytorch_lightning/utilities/distributed.py:52: UserWarning: The dataloader, train dataloader, does not have many workers which may be a bottleneck. Consider increasing the value of the `num_workers` argument` (try 8 which is the number of cpus on this machine) in the `DataLoader` init to improve performance.\n",
      "  warnings.warn(*args, **kwargs)\n"
     ]
    },
    {
     "data": {
      "application/vnd.jupyter.widget-view+json": {
       "model_id": "1cc78c178a3a420cab73d139c9c8267b",
       "version_major": 2,
       "version_minor": 0
      },
      "text/plain": [
       "HBox(children=(HTML(value='Training'), FloatProgress(value=1.0, bar_style='info', layout=Layout(flex='2'), max…"
      ]
     },
     "metadata": {},
     "output_type": "display_data"
    },
    {
     "data": {
      "application/vnd.jupyter.widget-view+json": {
       "model_id": "",
       "version_major": 2,
       "version_minor": 0
      },
      "text/plain": [
       "HBox(children=(HTML(value='Validating'), FloatProgress(value=1.0, bar_style='info', layout=Layout(flex='2'), m…"
      ]
     },
     "metadata": {},
     "output_type": "display_data"
    },
    {
     "data": {
      "application/vnd.jupyter.widget-view+json": {
       "model_id": "",
       "version_major": 2,
       "version_minor": 0
      },
      "text/plain": [
       "HBox(children=(HTML(value='Validating'), FloatProgress(value=1.0, bar_style='info', layout=Layout(flex='2'), m…"
      ]
     },
     "metadata": {},
     "output_type": "display_data"
    },
    {
     "data": {
      "application/vnd.jupyter.widget-view+json": {
       "model_id": "",
       "version_major": 2,
       "version_minor": 0
      },
      "text/plain": [
       "HBox(children=(HTML(value='Validating'), FloatProgress(value=1.0, bar_style='info', layout=Layout(flex='2'), m…"
      ]
     },
     "metadata": {},
     "output_type": "display_data"
    },
    {
     "data": {
      "application/vnd.jupyter.widget-view+json": {
       "model_id": "",
       "version_major": 2,
       "version_minor": 0
      },
      "text/plain": [
       "HBox(children=(HTML(value='Validating'), FloatProgress(value=1.0, bar_style='info', layout=Layout(flex='2'), m…"
      ]
     },
     "metadata": {},
     "output_type": "display_data"
    },
    {
     "data": {
      "application/vnd.jupyter.widget-view+json": {
       "model_id": "",
       "version_major": 2,
       "version_minor": 0
      },
      "text/plain": [
       "HBox(children=(HTML(value='Validating'), FloatProgress(value=1.0, bar_style='info', layout=Layout(flex='2'), m…"
      ]
     },
     "metadata": {},
     "output_type": "display_data"
    },
    {
     "data": {
      "application/vnd.jupyter.widget-view+json": {
       "model_id": "",
       "version_major": 2,
       "version_minor": 0
      },
      "text/plain": [
       "HBox(children=(HTML(value='Validating'), FloatProgress(value=1.0, bar_style='info', layout=Layout(flex='2'), m…"
      ]
     },
     "metadata": {},
     "output_type": "display_data"
    },
    {
     "data": {
      "application/vnd.jupyter.widget-view+json": {
       "model_id": "",
       "version_major": 2,
       "version_minor": 0
      },
      "text/plain": [
       "HBox(children=(HTML(value='Validating'), FloatProgress(value=1.0, bar_style='info', layout=Layout(flex='2'), m…"
      ]
     },
     "metadata": {},
     "output_type": "display_data"
    },
    {
     "data": {
      "application/vnd.jupyter.widget-view+json": {
       "model_id": "",
       "version_major": 2,
       "version_minor": 0
      },
      "text/plain": [
       "HBox(children=(HTML(value='Validating'), FloatProgress(value=1.0, bar_style='info', layout=Layout(flex='2'), m…"
      ]
     },
     "metadata": {},
     "output_type": "display_data"
    },
    {
     "data": {
      "application/vnd.jupyter.widget-view+json": {
       "model_id": "",
       "version_major": 2,
       "version_minor": 0
      },
      "text/plain": [
       "HBox(children=(HTML(value='Validating'), FloatProgress(value=1.0, bar_style='info', layout=Layout(flex='2'), m…"
      ]
     },
     "metadata": {},
     "output_type": "display_data"
    },
    {
     "data": {
      "application/vnd.jupyter.widget-view+json": {
       "model_id": "",
       "version_major": 2,
       "version_minor": 0
      },
      "text/plain": [
       "HBox(children=(HTML(value='Validating'), FloatProgress(value=1.0, bar_style='info', layout=Layout(flex='2'), m…"
      ]
     },
     "metadata": {},
     "output_type": "display_data"
    },
    {
     "data": {
      "application/vnd.jupyter.widget-view+json": {
       "model_id": "",
       "version_major": 2,
       "version_minor": 0
      },
      "text/plain": [
       "HBox(children=(HTML(value='Validating'), FloatProgress(value=1.0, bar_style='info', layout=Layout(flex='2'), m…"
      ]
     },
     "metadata": {},
     "output_type": "display_data"
    },
    {
     "data": {
      "application/vnd.jupyter.widget-view+json": {
       "model_id": "",
       "version_major": 2,
       "version_minor": 0
      },
      "text/plain": [
       "HBox(children=(HTML(value='Validating'), FloatProgress(value=1.0, bar_style='info', layout=Layout(flex='2'), m…"
      ]
     },
     "metadata": {},
     "output_type": "display_data"
    },
    {
     "data": {
      "application/vnd.jupyter.widget-view+json": {
       "model_id": "",
       "version_major": 2,
       "version_minor": 0
      },
      "text/plain": [
       "HBox(children=(HTML(value='Validating'), FloatProgress(value=1.0, bar_style='info', layout=Layout(flex='2'), m…"
      ]
     },
     "metadata": {},
     "output_type": "display_data"
    },
    {
     "data": {
      "application/vnd.jupyter.widget-view+json": {
       "model_id": "",
       "version_major": 2,
       "version_minor": 0
      },
      "text/plain": [
       "HBox(children=(HTML(value='Validating'), FloatProgress(value=1.0, bar_style='info', layout=Layout(flex='2'), m…"
      ]
     },
     "metadata": {},
     "output_type": "display_data"
    },
    {
     "data": {
      "application/vnd.jupyter.widget-view+json": {
       "model_id": "",
       "version_major": 2,
       "version_minor": 0
      },
      "text/plain": [
       "HBox(children=(HTML(value='Validating'), FloatProgress(value=1.0, bar_style='info', layout=Layout(flex='2'), m…"
      ]
     },
     "metadata": {},
     "output_type": "display_data"
    },
    {
     "data": {
      "application/vnd.jupyter.widget-view+json": {
       "model_id": "",
       "version_major": 2,
       "version_minor": 0
      },
      "text/plain": [
       "HBox(children=(HTML(value='Validating'), FloatProgress(value=1.0, bar_style='info', layout=Layout(flex='2'), m…"
      ]
     },
     "metadata": {},
     "output_type": "display_data"
    },
    {
     "data": {
      "application/vnd.jupyter.widget-view+json": {
       "model_id": "",
       "version_major": 2,
       "version_minor": 0
      },
      "text/plain": [
       "HBox(children=(HTML(value='Validating'), FloatProgress(value=1.0, bar_style='info', layout=Layout(flex='2'), m…"
      ]
     },
     "metadata": {},
     "output_type": "display_data"
    },
    {
     "data": {
      "application/vnd.jupyter.widget-view+json": {
       "model_id": "",
       "version_major": 2,
       "version_minor": 0
      },
      "text/plain": [
       "HBox(children=(HTML(value='Validating'), FloatProgress(value=1.0, bar_style='info', layout=Layout(flex='2'), m…"
      ]
     },
     "metadata": {},
     "output_type": "display_data"
    },
    {
     "data": {
      "application/vnd.jupyter.widget-view+json": {
       "model_id": "",
       "version_major": 2,
       "version_minor": 0
      },
      "text/plain": [
       "HBox(children=(HTML(value='Validating'), FloatProgress(value=1.0, bar_style='info', layout=Layout(flex='2'), m…"
      ]
     },
     "metadata": {},
     "output_type": "display_data"
    },
    {
     "data": {
      "application/vnd.jupyter.widget-view+json": {
       "model_id": "",
       "version_major": 2,
       "version_minor": 0
      },
      "text/plain": [
       "HBox(children=(HTML(value='Validating'), FloatProgress(value=1.0, bar_style='info', layout=Layout(flex='2'), m…"
      ]
     },
     "metadata": {},
     "output_type": "display_data"
    },
    {
     "data": {
      "application/vnd.jupyter.widget-view+json": {
       "model_id": "",
       "version_major": 2,
       "version_minor": 0
      },
      "text/plain": [
       "HBox(children=(HTML(value='Validating'), FloatProgress(value=1.0, bar_style='info', layout=Layout(flex='2'), m…"
      ]
     },
     "metadata": {},
     "output_type": "display_data"
    },
    {
     "data": {
      "application/vnd.jupyter.widget-view+json": {
       "model_id": "",
       "version_major": 2,
       "version_minor": 0
      },
      "text/plain": [
       "HBox(children=(HTML(value='Validating'), FloatProgress(value=1.0, bar_style='info', layout=Layout(flex='2'), m…"
      ]
     },
     "metadata": {},
     "output_type": "display_data"
    },
    {
     "data": {
      "application/vnd.jupyter.widget-view+json": {
       "model_id": "",
       "version_major": 2,
       "version_minor": 0
      },
      "text/plain": [
       "HBox(children=(HTML(value='Validating'), FloatProgress(value=1.0, bar_style='info', layout=Layout(flex='2'), m…"
      ]
     },
     "metadata": {},
     "output_type": "display_data"
    },
    {
     "data": {
      "application/vnd.jupyter.widget-view+json": {
       "model_id": "",
       "version_major": 2,
       "version_minor": 0
      },
      "text/plain": [
       "HBox(children=(HTML(value='Validating'), FloatProgress(value=1.0, bar_style='info', layout=Layout(flex='2'), m…"
      ]
     },
     "metadata": {},
     "output_type": "display_data"
    },
    {
     "data": {
      "application/vnd.jupyter.widget-view+json": {
       "model_id": "",
       "version_major": 2,
       "version_minor": 0
      },
      "text/plain": [
       "HBox(children=(HTML(value='Validating'), FloatProgress(value=1.0, bar_style='info', layout=Layout(flex='2'), m…"
      ]
     },
     "metadata": {},
     "output_type": "display_data"
    },
    {
     "data": {
      "application/vnd.jupyter.widget-view+json": {
       "model_id": "",
       "version_major": 2,
       "version_minor": 0
      },
      "text/plain": [
       "HBox(children=(HTML(value='Validating'), FloatProgress(value=1.0, bar_style='info', layout=Layout(flex='2'), m…"
      ]
     },
     "metadata": {},
     "output_type": "display_data"
    },
    {
     "data": {
      "application/vnd.jupyter.widget-view+json": {
       "model_id": "",
       "version_major": 2,
       "version_minor": 0
      },
      "text/plain": [
       "HBox(children=(HTML(value='Validating'), FloatProgress(value=1.0, bar_style='info', layout=Layout(flex='2'), m…"
      ]
     },
     "metadata": {},
     "output_type": "display_data"
    },
    {
     "data": {
      "application/vnd.jupyter.widget-view+json": {
       "model_id": "",
       "version_major": 2,
       "version_minor": 0
      },
      "text/plain": [
       "HBox(children=(HTML(value='Validating'), FloatProgress(value=1.0, bar_style='info', layout=Layout(flex='2'), m…"
      ]
     },
     "metadata": {},
     "output_type": "display_data"
    },
    {
     "data": {
      "application/vnd.jupyter.widget-view+json": {
       "model_id": "",
       "version_major": 2,
       "version_minor": 0
      },
      "text/plain": [
       "HBox(children=(HTML(value='Validating'), FloatProgress(value=1.0, bar_style='info', layout=Layout(flex='2'), m…"
      ]
     },
     "metadata": {},
     "output_type": "display_data"
    },
    {
     "data": {
      "application/vnd.jupyter.widget-view+json": {
       "model_id": "",
       "version_major": 2,
       "version_minor": 0
      },
      "text/plain": [
       "HBox(children=(HTML(value='Validating'), FloatProgress(value=1.0, bar_style='info', layout=Layout(flex='2'), m…"
      ]
     },
     "metadata": {},
     "output_type": "display_data"
    },
    {
     "data": {
      "application/vnd.jupyter.widget-view+json": {
       "model_id": "",
       "version_major": 2,
       "version_minor": 0
      },
      "text/plain": [
       "HBox(children=(HTML(value='Validating'), FloatProgress(value=1.0, bar_style='info', layout=Layout(flex='2'), m…"
      ]
     },
     "metadata": {},
     "output_type": "display_data"
    },
    {
     "data": {
      "application/vnd.jupyter.widget-view+json": {
       "model_id": "",
       "version_major": 2,
       "version_minor": 0
      },
      "text/plain": [
       "HBox(children=(HTML(value='Validating'), FloatProgress(value=1.0, bar_style='info', layout=Layout(flex='2'), m…"
      ]
     },
     "metadata": {},
     "output_type": "display_data"
    },
    {
     "data": {
      "application/vnd.jupyter.widget-view+json": {
       "model_id": "",
       "version_major": 2,
       "version_minor": 0
      },
      "text/plain": [
       "HBox(children=(HTML(value='Validating'), FloatProgress(value=1.0, bar_style='info', layout=Layout(flex='2'), m…"
      ]
     },
     "metadata": {},
     "output_type": "display_data"
    },
    {
     "data": {
      "application/vnd.jupyter.widget-view+json": {
       "model_id": "",
       "version_major": 2,
       "version_minor": 0
      },
      "text/plain": [
       "HBox(children=(HTML(value='Validating'), FloatProgress(value=1.0, bar_style='info', layout=Layout(flex='2'), m…"
      ]
     },
     "metadata": {},
     "output_type": "display_data"
    },
    {
     "data": {
      "application/vnd.jupyter.widget-view+json": {
       "model_id": "",
       "version_major": 2,
       "version_minor": 0
      },
      "text/plain": [
       "HBox(children=(HTML(value='Validating'), FloatProgress(value=1.0, bar_style='info', layout=Layout(flex='2'), m…"
      ]
     },
     "metadata": {},
     "output_type": "display_data"
    },
    {
     "data": {
      "application/vnd.jupyter.widget-view+json": {
       "model_id": "",
       "version_major": 2,
       "version_minor": 0
      },
      "text/plain": [
       "HBox(children=(HTML(value='Validating'), FloatProgress(value=1.0, bar_style='info', layout=Layout(flex='2'), m…"
      ]
     },
     "metadata": {},
     "output_type": "display_data"
    },
    {
     "data": {
      "application/vnd.jupyter.widget-view+json": {
       "model_id": "",
       "version_major": 2,
       "version_minor": 0
      },
      "text/plain": [
       "HBox(children=(HTML(value='Validating'), FloatProgress(value=1.0, bar_style='info', layout=Layout(flex='2'), m…"
      ]
     },
     "metadata": {},
     "output_type": "display_data"
    },
    {
     "data": {
      "application/vnd.jupyter.widget-view+json": {
       "model_id": "",
       "version_major": 2,
       "version_minor": 0
      },
      "text/plain": [
       "HBox(children=(HTML(value='Validating'), FloatProgress(value=1.0, bar_style='info', layout=Layout(flex='2'), m…"
      ]
     },
     "metadata": {},
     "output_type": "display_data"
    },
    {
     "data": {
      "application/vnd.jupyter.widget-view+json": {
       "model_id": "",
       "version_major": 2,
       "version_minor": 0
      },
      "text/plain": [
       "HBox(children=(HTML(value='Validating'), FloatProgress(value=1.0, bar_style='info', layout=Layout(flex='2'), m…"
      ]
     },
     "metadata": {},
     "output_type": "display_data"
    },
    {
     "data": {
      "application/vnd.jupyter.widget-view+json": {
       "model_id": "",
       "version_major": 2,
       "version_minor": 0
      },
      "text/plain": [
       "HBox(children=(HTML(value='Validating'), FloatProgress(value=1.0, bar_style='info', layout=Layout(flex='2'), m…"
      ]
     },
     "metadata": {},
     "output_type": "display_data"
    },
    {
     "data": {
      "application/vnd.jupyter.widget-view+json": {
       "model_id": "",
       "version_major": 2,
       "version_minor": 0
      },
      "text/plain": [
       "HBox(children=(HTML(value='Validating'), FloatProgress(value=1.0, bar_style='info', layout=Layout(flex='2'), m…"
      ]
     },
     "metadata": {},
     "output_type": "display_data"
    },
    {
     "data": {
      "application/vnd.jupyter.widget-view+json": {
       "model_id": "",
       "version_major": 2,
       "version_minor": 0
      },
      "text/plain": [
       "HBox(children=(HTML(value='Validating'), FloatProgress(value=1.0, bar_style='info', layout=Layout(flex='2'), m…"
      ]
     },
     "metadata": {},
     "output_type": "display_data"
    },
    {
     "data": {
      "application/vnd.jupyter.widget-view+json": {
       "model_id": "",
       "version_major": 2,
       "version_minor": 0
      },
      "text/plain": [
       "HBox(children=(HTML(value='Validating'), FloatProgress(value=1.0, bar_style='info', layout=Layout(flex='2'), m…"
      ]
     },
     "metadata": {},
     "output_type": "display_data"
    },
    {
     "data": {
      "application/vnd.jupyter.widget-view+json": {
       "model_id": "",
       "version_major": 2,
       "version_minor": 0
      },
      "text/plain": [
       "HBox(children=(HTML(value='Validating'), FloatProgress(value=1.0, bar_style='info', layout=Layout(flex='2'), m…"
      ]
     },
     "metadata": {},
     "output_type": "display_data"
    },
    {
     "data": {
      "application/vnd.jupyter.widget-view+json": {
       "model_id": "",
       "version_major": 2,
       "version_minor": 0
      },
      "text/plain": [
       "HBox(children=(HTML(value='Validating'), FloatProgress(value=1.0, bar_style='info', layout=Layout(flex='2'), m…"
      ]
     },
     "metadata": {},
     "output_type": "display_data"
    },
    {
     "data": {
      "application/vnd.jupyter.widget-view+json": {
       "model_id": "",
       "version_major": 2,
       "version_minor": 0
      },
      "text/plain": [
       "HBox(children=(HTML(value='Validating'), FloatProgress(value=1.0, bar_style='info', layout=Layout(flex='2'), m…"
      ]
     },
     "metadata": {},
     "output_type": "display_data"
    },
    {
     "data": {
      "application/vnd.jupyter.widget-view+json": {
       "model_id": "",
       "version_major": 2,
       "version_minor": 0
      },
      "text/plain": [
       "HBox(children=(HTML(value='Validating'), FloatProgress(value=1.0, bar_style='info', layout=Layout(flex='2'), m…"
      ]
     },
     "metadata": {},
     "output_type": "display_data"
    },
    {
     "data": {
      "application/vnd.jupyter.widget-view+json": {
       "model_id": "",
       "version_major": 2,
       "version_minor": 0
      },
      "text/plain": [
       "HBox(children=(HTML(value='Validating'), FloatProgress(value=1.0, bar_style='info', layout=Layout(flex='2'), m…"
      ]
     },
     "metadata": {},
     "output_type": "display_data"
    },
    {
     "data": {
      "application/vnd.jupyter.widget-view+json": {
       "model_id": "",
       "version_major": 2,
       "version_minor": 0
      },
      "text/plain": [
       "HBox(children=(HTML(value='Validating'), FloatProgress(value=1.0, bar_style='info', layout=Layout(flex='2'), m…"
      ]
     },
     "metadata": {},
     "output_type": "display_data"
    },
    {
     "data": {
      "application/vnd.jupyter.widget-view+json": {
       "model_id": "",
       "version_major": 2,
       "version_minor": 0
      },
      "text/plain": [
       "HBox(children=(HTML(value='Validating'), FloatProgress(value=1.0, bar_style='info', layout=Layout(flex='2'), m…"
      ]
     },
     "metadata": {},
     "output_type": "display_data"
    },
    {
     "name": "stdout",
     "output_type": "stream",
     "text": [
      "\n"
     ]
    },
    {
     "data": {
      "text/plain": [
       "1"
      ]
     },
     "execution_count": 42,
     "metadata": {},
     "output_type": "execute_result"
    }
   ],
   "source": [
    "import pytorch_lightning as pl\n",
    "from pytorch_lightning.callbacks.early_stopping import EarlyStopping\n",
    "from pytorch_lightning.callbacks import ModelCheckpoint\n",
    "from pytorch_lightning.callbacks import LearningRateMonitor\n",
    "from pytorch_lightning.loggers import TensorBoardLogger\n",
    "\n",
    "\n",
    "checkpoint_callback = pl.callbacks.ModelCheckpoint(dirpath=checkpoints, \n",
    "                                                           monitor='val_mae', \n",
    "                                                           mode=\"min\", save_top_k=1)\n",
    "early_stop_callback = EarlyStopping(monitor=\"val_loss\", min_delta=1e-3, patience=50, verbose=False, mode=\"min\")\n",
    "lr_logger = LearningRateMonitor()\n",
    "logger  = TensorBoardLogger(logs,name = \"forecast_v2\", version = 0)\n",
    "        \n",
    "trainer = pl.Trainer(\n",
    "                    logger = logger,\n",
    "                    checkpoint_callback=checkpoint_callback,\n",
    "                    max_epochs=50,\n",
    "                    gpus=-1 if torch.cuda.is_available() else None,\n",
    "                    callbacks=[lr_logger, early_stop_callback],\n",
    "                    weights_summary=\"top\"\n",
    "                     )\n",
    "model   = model_pil(network)\n",
    "trainer.fit(model, tra_loader, val_loader)"
   ]
  },
  {
   "cell_type": "code",
   "execution_count": 43,
   "metadata": {},
   "outputs": [
    {
     "name": "stderr",
     "output_type": "stream",
     "text": [
      "<ipython-input-43-2c7965ef755a>:12: TqdmDeprecationWarning: This function will be removed in tqdm==5.0.0\n",
      "Please use `tqdm.notebook.tqdm` instead of `tqdm.tqdm_notebook`\n",
      "  with tqdm(total=len(values), file=sys.stdout) as pbar:\n"
     ]
    },
    {
     "data": {
      "application/vnd.jupyter.widget-view+json": {
       "model_id": "f04f24c379364f43abfb6e7409d85252",
       "version_major": 2,
       "version_minor": 0
      },
      "text/plain": [
       "HBox(children=(HTML(value=''), FloatProgress(value=0.0, max=6.0), HTML(value='')))"
      ]
     },
     "metadata": {},
     "output_type": "display_data"
    },
    {
     "name": "stdout",
     "output_type": "stream",
     "text": [
      "\n"
     ]
    }
   ],
   "source": [
    "from net.utils import get_latest_checkpoint\n",
    "from tqdm import tqdm_notebook as tqdm\n",
    "dataloader=val_loader\n",
    "path_best_model = get_latest_checkpoint(checkpoints)\n",
    "checkpoint      = torch.load(path_best_model)\n",
    "model.load_state_dict(checkpoint['state_dict'])\n",
    "model.eval()\n",
    "batch_size   = dataloader.batchsize if hasattr(dataloader, 'len') else dataloader.batch_size\n",
    "outputs = []\n",
    "num_batches = len(dataloader)\n",
    "values = range(num_batches)\n",
    "with tqdm(total=len(values), file=sys.stdout) as pbar:\n",
    "    with torch.no_grad():\n",
    "        for batch_idx, batch in enumerate(dataloader):\n",
    "            logs = model.test_step(batch, batch_idx, model.model)\n",
    "            outputs.append(logs)\n",
    "            del  batch\n",
    "            pbar.set_description('processed: %d' % (1 + batch_idx))\n",
    "            pbar.update(1)\n",
    "        pbar.close()\n",
    "         \n",
    "    results = model.test_epoch_end(outputs)      \n",
    "        \n",
    "        "
   ]
  },
  {
   "cell_type": "code",
   "execution_count": 44,
   "metadata": {},
   "outputs": [],
   "source": [
    "pred = results[\"pred\"].data.expm1().clamp(min=0).numpy()\n",
    "q_pred = results[\"q_pred\"].data.expm1().clamp(min=0).numpy()\n",
    "true =results[\"true\"].data.expm1().clamp(min=0).numpy()"
   ]
  },
  {
   "cell_type": "code",
   "execution_count": 49,
   "metadata": {},
   "outputs": [
    {
     "data": {
      "image/png": "[encoded data removed]",
      "text/plain": [
       "<Figure size 864x576 with 7 Axes>"
      ]
     },
     "metadata": {
      "image/png": {
       "height": 227,
       "width": 705
      },
      "needs_background": "light"
     },
     "output_type": "display_data"
    }
   ],
   "source": [
    "horizon = 48\n",
    "figure = plt.figure(figsize=(12,8))\n",
    "max_els = round(pred.shape[0]/horizon)\n",
    "for i in range(max_els):\n",
    "    day = int(horizon*i)\n",
    "    ax1=plt.subplot(4, 4, i+1)\n",
    "    #print(day)\n",
    "\n",
    "    plt.plot(true[day, ],'.-', label=\"True\")\n",
    "    plt.plot(pred[day, :],'.-', label=\"Pred\")\n",
    "    #plt.fill_between(np.arange(len(q_pred[day][0,:])), q_pred[day][0,:].flatten(),q_pred[day][-1,:].flatten(), color=\"darkorange\", alpha=0.6)\n",
    "    ax = plt.gca()\n",
    "    ax.autoscale(tight=True)"
   ]
  },
  {
   "cell_type": "code",
   "execution_count": 50,
   "metadata": {},
   "outputs": [
    {
     "data": {
      "image/png": "[encoded data removed]",
      "text/plain": [
       "<Figure size 252x189 with 1 Axes>"
      ]
     },
     "metadata": {
      "image/png": {
       "height": 162,
       "width": 235
      },
      "needs_background": "light"
     },
     "output_type": "display_data"
    }
   ],
   "source": [
    "day=-1\n",
    "plt.plot(true[day])\n",
    "plt.plot(pred[day])\n",
    "plt.fill_between(np.arange(len(q_pred[day][0,:])), q_pred[day][0,:].flatten(),q_pred[day][-1,:].flatten(), color=\"darkorange\", alpha=0.6)\n",
    "plt.savefig(\"prediction.pdf\")"
   ]
  },
  {
   "cell_type": "code",
   "execution_count": null,
   "metadata": {},
   "outputs": [],
   "source": []
  }
 ],
 "metadata": {
  "kernelspec": {
   "display_name": "Python 3",
   "language": "python",
   "name": "python3"
  },
  "language_info": {
   "codemirror_mode": {
    "name": "ipython",
    "version": 3
   },
   "file_extension": ".py",
   "mimetype": "text/x-python",
   "name": "python",
   "nbconvert_exporter": "python",
   "pygments_lexer": "ipython3",
   "version": "3.8.5"
  }
 },
 "nbformat": 4,
 "nbformat_minor": 4
}
